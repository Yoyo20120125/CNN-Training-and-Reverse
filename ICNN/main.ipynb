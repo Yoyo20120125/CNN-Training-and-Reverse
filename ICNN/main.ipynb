{
 "cells": [
  {
   "cell_type": "code",
   "execution_count": 2,
   "metadata": {},
   "outputs": [
    {
     "data": {
      "text/plain": [
       "device(type='cuda')"
      ]
     },
     "execution_count": 2,
     "metadata": {},
     "output_type": "execute_result"
    }
   ],
   "source": [
    "import torch\n",
    "import torch.nn as nn\n",
    "import torch.optim as optim\n",
    "from torchvision import datasets, transforms\n",
    "from torchsummary import summary\n",
    "\n",
    "import numpy\n",
    "from tqdm import tqdm\n",
    "from matplotlib import pyplot as plt\n",
    "import cv2\n",
    "\n",
    "torch.set_printoptions(precision=4, sci_mode=False)\n",
    "numpy.set_printoptions(precision=4, suppress=True)\n",
    "\n",
    "device = torch.device('cuda' if torch.cuda.is_available() else 'cpu')\n",
    "device"
   ]
  },
  {
   "cell_type": "code",
   "execution_count": 3,
   "metadata": {},
   "outputs": [],
   "source": [
    "transform = transforms.Compose([transforms.ToTensor(), transforms.Normalize((0.5,), (0.5,))])\n",
    "\n",
    "train_dataset = datasets.MNIST(root='./mnist', train=True, download=True, transform=transform)\n",
    "test_dataset = datasets.MNIST(root='./mnist', train=False, transform=transform, download=True)\n",
    "\n",
    "train_loader = torch.utils.data.DataLoader(dataset=train_dataset, batch_size=128, shuffle=True, drop_last=True)\n",
    "test_loader = torch.utils.data.DataLoader(dataset=test_dataset, batch_size=128, shuffle=False, drop_last=False)\n",
    "\n",
    "transform = transforms.Compose([transforms.ToTensor(), transforms.Normalize((0.5,), (0.5,))])\n",
    "data_iter = iter(train_loader)\n",
    "images, labels = next(data_iter)"
   ]
  },
  {
   "cell_type": "code",
   "execution_count": 4,
   "metadata": {},
   "outputs": [],
   "source": [
    "class CNN(nn.Module):\n",
    "\n",
    "    def __init__(self):\n",
    "        super(CNN, self).__init__()\n",
    "        self.conv1 = nn.Conv2d(1, 6, kernel_size=5, bias=False)\n",
    "        self.pool1 = nn.MaxPool2d(kernel_size=2)\n",
    "        self.conv2 = nn.Conv2d(6, 16, kernel_size=3, bias=False)\n",
    "        self.pool2 = nn.MaxPool2d(kernel_size=2)\n",
    "        self.fc1 = nn.Linear(16*5*5, 120)\n",
    "        self.fc2 = nn.Linear(120, 84)\n",
    "        self.fc3 = nn.Linear(84, 10)\n",
    "    \n",
    "    def forward(self, x):\n",
    "        x = self.conv1(x) # 6 @ 24 x 24\n",
    "        x = self.pool1(x) # 6 @ 12 x 12\n",
    "        x = self.conv2(x) # 16 @ 10 x 10\n",
    "        x = self.pool2(x) # 16 @ 5 x 5\n",
    "        x = x.reshape(x.shape[0], -1)\n",
    "        x = self.fc1(x)\n",
    "        x = self.fc2(x)\n",
    "        x = self.fc3(x)\n",
    "        return x"
   ]
  },
  {
   "cell_type": "code",
   "execution_count": 5,
   "metadata": {},
   "outputs": [],
   "source": [
    "NUM_EPOCHS = 10\n",
    "LEARNING_RATE = 0.02\n",
    "\n",
    "model = CNN().to(device)\n",
    "# summary(model, (1, 28, 28))\n",
    "criterion = nn.CrossEntropyLoss()\n",
    "optimizer = optim.SGD(model.parameters(), lr=LEARNING_RATE)"
   ]
  },
  {
   "cell_type": "code",
   "execution_count": 17,
   "metadata": {},
   "outputs": [
    {
     "name": "stdout",
     "output_type": "stream",
     "text": [
      "Epoch 0 \tLoss: 32.4852727772668\n",
      "Epoch 1 \tLoss: 31.265612656250596\n",
      "Epoch 2 \tLoss: 30.047778451815248\n",
      "Epoch 3 \tLoss: 29.41753086121753\n",
      "Epoch 4 \tLoss: 28.25623828684911\n",
      "Epoch 5 \tLoss: 27.56511129718274\n",
      "Epoch 6 \tLoss: 26.73780795140192\n",
      "Epoch 7 \tLoss: 26.033422647044063\n",
      "Epoch 8 \tLoss: 25.520182609092444\n",
      "Epoch 9 \tLoss: 24.874386487761512\n"
     ]
    }
   ],
   "source": [
    "def new_learning_rate(loss):\n",
    "    if loss <= 1:\n",
    "        return 0.00001\n",
    "    elif loss <= 2:\n",
    "        return 0.0001\n",
    "    elif loss <= 20:\n",
    "        return 0.001\n",
    "    elif loss <= 25:\n",
    "        return 0.005\n",
    "    elif loss <= 50:\n",
    "        return 0.01\n",
    "    else:\n",
    "        return 0.02\n",
    "\n",
    "for epoch in range(NUM_EPOCHS):\n",
    "    total_loss = 0\n",
    "    model.train()\n",
    "    \n",
    "    for _, (data, target) in enumerate(train_loader):\n",
    "        data, target = data.to(device), target.to(device)\n",
    "        model = model.to(device)\n",
    "\n",
    "        optimizer.zero_grad()\n",
    "        output = model(data)\n",
    "        loss = criterion(output, target)\n",
    "        loss.backward()\n",
    "        optimizer.step()\n",
    "        total_loss += loss.item()\n",
    "    \n",
    "    print(f'Epoch {epoch} \\tLoss: {total_loss}')\n",
    "    \n",
    "    new_lr = new_learning_rate(total_loss)\n",
    "    for param_group in optimizer.param_groups:\n",
    "        param_group['lr'] = new_lr\n",
    "    "
   ]
  },
  {
   "cell_type": "code",
   "execution_count": 18,
   "metadata": {},
   "outputs": [
    {
     "name": "stdout",
     "output_type": "stream",
     "text": [
      "Test Accuracy: 98.26%\n"
     ]
    }
   ],
   "source": [
    "model.eval()\n",
    "correct = 0\n",
    "total = 0\n",
    "with torch.no_grad():\n",
    "    for data, target in test_loader:\n",
    "        data, target = data.to(device), target.to(device)\n",
    "        \n",
    "        output = model(data)\n",
    "        pred = output.argmax(dim=1)\n",
    "        correct += (pred == target).sum().item()\n",
    "        total += target.size(0)\n",
    "\n",
    "print(f\"Test Accuracy: {100 * correct / total:.2f}%\")"
   ]
  },
  {
   "cell_type": "code",
   "execution_count": 19,
   "metadata": {},
   "outputs": [
    {
     "data": {
      "image/png": "[encoded data removed]",
      "text/plain": [
       "<Figure size 640x480 with 2 Axes>"
      ]
     },
     "metadata": {},
     "output_type": "display_data"
    },
    {
     "data": {
      "text/plain": [
       "(tensor([ -7.4942, -16.1933,   5.1107,  10.9138, -15.1040,   7.9597,  -6.0072,\n",
       "           0.6470,  22.4626,  -1.0391], device='cuda:0',\n",
       "        grad_fn=<SelectBackward0>),\n",
       " tensor(8, device='cuda:0'))"
      ]
     },
     "execution_count": 19,
     "metadata": {},
     "output_type": "execute_result"
    }
   ],
   "source": [
    "plt.imshow(images[0][0], cmap='gray')\n",
    "plt.colorbar()\n",
    "plt.axis('off')\n",
    "plt.show()\n",
    "\n",
    "image = images.to(device)\n",
    "ans = model(image)\n",
    "ans[0], ans[0].argmax()"
   ]
  },
  {
   "cell_type": "code",
   "execution_count": 20,
   "metadata": {},
   "outputs": [],
   "source": [
    "def deconv2d(input_tensor, kernel):\n",
    "    \"\"\"\n",
    "    反卷积操作，每个输出通道使用不同的卷积核\n",
    "    Args:\n",
    "        input_tensor: 输入张量 [B, C_out, H, W]\n",
    "        kernel: 卷积核 [C_out, C_in, kH, kW]\n",
    "    Returns:\n",
    "        output_tensor: 反卷积后的输出张量 [B, C_in, H + kH - 1, W + kW - 1]\n",
    "    \"\"\"\n",
    "    B, C_out, H, W = input_tensor.shape\n",
    "    C_in, kH, kW = kernel.shape[1:]  # 获取输入通道数和卷积核的高宽\n",
    "    output_tensor = torch.zeros(B, C_in, H + kH - 1, W + kW - 1)\n",
    "    \n",
    "    # 遍历每个输出通道\n",
    "    for c_out in range(C_out):\n",
    "        for c_in in range(C_in):\n",
    "            for i in range(H):\n",
    "                for j in range(W):\n",
    "                    output_tensor[:, c_in, i:i + kH, j:j + kW] += input_tensor[:, c_out, i:i + 1, j:j + 1] * kernel[c_out, c_in]\n",
    "\n",
    "    return output_tensor"
   ]
  },
  {
   "cell_type": "code",
   "execution_count": 1,
   "metadata": {},
   "outputs": [
    {
     "ename": "NameError",
     "evalue": "name 'torch' is not defined",
     "output_type": "error",
     "traceback": [
      "\u001b[0;31m---------------------------------------------------------------------------\u001b[0m",
      "\u001b[0;31mNameError\u001b[0m                                 Traceback (most recent call last)",
      "Cell \u001b[0;32mIn[1], line 1\u001b[0m\n\u001b[0;32m----> 1\u001b[0m y0 \u001b[38;5;241m=\u001b[39m \u001b[43mtorch\u001b[49m\u001b[38;5;241m.\u001b[39mtensor([\u001b[38;5;241m1\u001b[39m, \u001b[38;5;241m2\u001b[39m, \u001b[38;5;241m3\u001b[39m, \u001b[38;5;241m4\u001b[39m, \u001b[38;5;241m5\u001b[39m, \u001b[38;5;241m6\u001b[39m, \u001b[38;5;241m7\u001b[39m, \u001b[38;5;241m8\u001b[39m, \u001b[38;5;241m9\u001b[39m, \u001b[38;5;241m0\u001b[39m])\n\u001b[1;32m      2\u001b[0m \u001b[38;5;66;03m# fc3\u001b[39;00m\n\u001b[1;32m      3\u001b[0m W_5, b_3 \u001b[38;5;241m=\u001b[39m model\u001b[38;5;241m.\u001b[39mfc3\u001b[38;5;241m.\u001b[39mweight\u001b[38;5;241m.\u001b[39mcpu()\u001b[38;5;241m.\u001b[39mdetach(), model\u001b[38;5;241m.\u001b[39mfc3\u001b[38;5;241m.\u001b[39mbias\u001b[38;5;241m.\u001b[39mcpu()\u001b[38;5;241m.\u001b[39mdetach()\n",
      "\u001b[0;31mNameError\u001b[0m: name 'torch' is not defined"
     ]
    }
   ],
   "source": [
    "y0 = torch.tensor([1, 2, 3, 4, 5, 6, 7, 8, 9, 0])\n",
    "# fc3\n",
    "W_5, b_3 = model.fc3.weight.cpu().detach(), model.fc3.bias.cpu().detach()\n",
    "y1, _, _, _ = torch.linalg.lstsq(W_5, y0 - b_3, rcond=None)\n",
    "# fc2\n",
    "W_4, b_2 = model.fc2.weight.cpu().detach(), model.fc2.bias.cpu().detach()\n",
    "y2, _, _, _ = torch.linalg.lstsq(W_4, y1 - b_2, rcond=None)\n",
    "# fc1\n",
    "W_3, b_1 = model.fc1.weight.cpu().detach(), model.fc1.bias.cpu().detach()\n",
    "y3, _, _, _ = torch.linalg.lstsq(W_3, y2 - b_1, rcond=None)\n",
    "\n",
    "y3 = y3.reshape(torch.Size([16, 5, 5])).unsqueeze(0)\n",
    "# pool2\n",
    "y4 = nn.functional.interpolate(y3, scale_factor=2, mode='bilinear')\n",
    "# conv2\n",
    "conv_transpose2 = nn.ConvTranspose2d(16, 6, kernel_size=3, bias=False)\n",
    "conv_transpose2.weight.data = model.conv2.weight.data.clone()\n",
    "conv_transpose2.to(torch.device(\"cpu\"))\n",
    "y5 = conv_transpose2(y4)\n",
    "# pool2\n",
    "y6 = nn.functional.interpolate(y5, scale_factor=2, mode='bilinear')\n",
    "# conv1\n",
    "conv_transpose1 = nn.ConvTranspose2d(6, 1, kernel_size=5, bias=False)\n",
    "conv_transpose1.weight.data = model.conv1.weight.data.clone()\n",
    "conv_transpose1.to(torch.device(\"cpu\"))\n",
    "y7 = conv_transpose1(y6)\n",
    "\n",
    "res = y7.squeeze().detach().reshape(28, 28).numpy()\n",
    "plt.imshow(res, cmap='gray')\n",
    "plt.title('res')\n",
    "plt.colorbar()\n",
    "plt.axis('off')\n",
    "plt.show()"
   ]
  },
  {
   "cell_type": "code",
   "execution_count": null,
   "metadata": {},
   "outputs": [
    {
     "data": {
      "image/png": "[encoded data removed]",
      "text/plain": [
       "<Figure size 640x480 with 2 Axes>"
      ]
     },
     "metadata": {},
     "output_type": "display_data"
    }
   ],
   "source": [
    "y0 = torch.tensor([0, 0, 0, 0, 0, 0, 0, 0, 0, 0])\n",
    "\n",
    "# fc3\n",
    "W_5, b_3 = model.fc3.weight.cpu().detach(), model.fc3.bias.cpu().detach()\n",
    "y1, _, _, _ = torch.linalg.lstsq(W_5, y0 - b_3, rcond=None)\n",
    "\n",
    "# fc2\n",
    "W_4, b_2 = model.fc2.weight.cpu().detach(), model.fc2.bias.cpu().detach()\n",
    "y2, _, _, _ = torch.linalg.lstsq(W_4, y1 - b_2, rcond=None)\n",
    "\n",
    "# fc1\n",
    "W_3, b_1 = model.fc1.weight.cpu().detach(), model.fc1.bias.cpu().detach()\n",
    "y3, _, _, _ = torch.linalg.lstsq(W_3, y2 - b_1, rcond=None)\n",
    "\n",
    "y3 = y3.reshape(torch.Size([16, 5, 5])).unsqueeze(0)\n",
    "\n",
    "# pool2\n",
    "y4 = nn.functional.interpolate(y3, scale_factor=2, mode='bilinear')\n",
    "\n",
    "# conv2\n",
    "kernel2 = model.conv2.weight.cpu().detach()\n",
    "y5 = deconv2d(y4, kernel2)\n",
    "# conv_transpose2 = nn.ConvTranspose2d(16, 16, kernel_size=3, bias=False)\n",
    "# conv_transpose2.weight.data = model.conv2.weight.data.clone()\n",
    "# conv_transpose2.to(torch.device(\"cpu\"))\n",
    "# y5 = conv_transpose2(y4)\n",
    "\n",
    "# pool2\n",
    "y6 = nn.functional.interpolate(y5, scale_factor=2, mode='bilinear')\n",
    "\n",
    "# conv1\n",
    "kernel1 = model.conv1.weight.cpu().detach()  # 获取conv1的卷积核\n",
    "y7 = deconv2d(y6, kernel1)\n",
    "# conv_transpose1 = nn.ConvTranspose2d(16, 6, kernel_size=5, bias=False)\n",
    "# conv_transpose1.weight.data = model.conv1.weight.data.clone()\n",
    "# conv_transpose1.to(torch.device(\"cpu\"))\n",
    "# y7 = conv_transpose1(y6)\n",
    "\n",
    "res = y7.squeeze().detach().numpy()\n",
    "plt.imshow(res, cmap='gray')\n",
    "plt.colorbar()\n",
    "plt.axis('off')\n",
    "plt.show()"
   ]
  },
  {
   "cell_type": "code",
   "execution_count": 23,
   "metadata": {},
   "outputs": [
    {
     "name": "stderr",
     "output_type": "stream",
     "text": [
      "/tmp/ipykernel_632/2623411039.py:1: UserWarning: To copy construct from a tensor, it is recommended to use sourceTensor.clone().detach() or sourceTensor.clone().detach().requires_grad_(True), rather than torch.tensor(sourceTensor).\n",
      "  y7_tensor = torch.tensor(y7, dtype=torch.float32).to(device)\n"
     ]
    },
    {
     "data": {
      "text/plain": [
       "(tensor([ -912.1132,   895.5464,  2094.9609,  1696.2827, -1198.4619,   623.1236,\n",
       "         -1808.1384,  1131.7771,  -369.1905, -1492.2098], device='cuda:0',\n",
       "        grad_fn=<SelectBackward0>),\n",
       " tensor(2, device='cuda:0'))"
      ]
     },
     "execution_count": 23,
     "metadata": {},
     "output_type": "execute_result"
    }
   ],
   "source": [
    "y7_tensor = torch.tensor(y7, dtype=torch.float32).to(device)\n",
    "ans = model(y7_tensor)\n",
    "ans[0], ans[0].argmax()"
   ]
  },
  {
   "cell_type": "code",
   "execution_count": null,
   "metadata": {},
   "outputs": [],
   "source": []
  }
 ],
 "metadata": {
  "kernelspec": {
   "display_name": "ailab",
   "language": "python",
   "name": "python3"
  },
  "language_info": {
   "codemirror_mode": {
    "name": "ipython",
    "version": 3
   },
   "file_extension": ".py",
   "mimetype": "text/x-python",
   "name": "python",
   "nbconvert_exporter": "python",
   "pygments_lexer": "ipython3",
   "version": "3.11.11"
  }
 },
 "nbformat": 4,
 "nbformat_minor": 2
}
