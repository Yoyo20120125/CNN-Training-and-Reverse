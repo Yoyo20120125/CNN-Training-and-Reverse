{
 "cells": [
  {
   "cell_type": "code",
   "execution_count": 6,
   "metadata": {},
   "outputs": [
    {
     "data": {
      "text/plain": [
       "device(type='cuda')"
      ]
     },
     "execution_count": 6,
     "metadata": {},
     "output_type": "execute_result"
    }
   ],
   "source": [
    "import torch\n",
    "import torch.nn as nn\n",
    "import torch.optim as optim\n",
    "from torchvision import datasets, transforms\n",
    "from torchsummary import summary\n",
    "\n",
    "import numpy\n",
    "from tqdm import tqdm\n",
    "from matplotlib import pyplot as plt\n",
    "import cv2\n",
    "\n",
    "torch.set_printoptions(precision=4, sci_mode=False)\n",
    "numpy.set_printoptions(precision=4, suppress=True)\n",
    "\n",
    "device = torch.device('cuda' if torch.cuda.is_available() else 'cpu')\n",
    "device"
   ]
  },
  {
   "cell_type": "code",
   "execution_count": 7,
   "metadata": {},
   "outputs": [],
   "source": [
    "transform = transforms.Compose([transforms.ToTensor(), transforms.Normalize((0.5,), (0.5,))])\n",
    "\n",
    "train_dataset = datasets.MNIST(root='./mnist', train=True, download=True, transform=transform)\n",
    "test_dataset = datasets.MNIST(root='./mnist', train=False, transform=transform, download=True)\n",
    "\n",
    "train_loader = torch.utils.data.DataLoader(dataset=train_dataset, batch_size=128, shuffle=True, drop_last=True)\n",
    "test_loader = torch.utils.data.DataLoader(dataset=test_dataset, batch_size=128, shuffle=False, drop_last=False)\n",
    "\n",
    "transform = transforms.Compose([transforms.ToTensor(), transforms.Normalize((0.5,), (0.5,))])\n",
    "data_iter = iter(train_loader)\n",
    "images, labels = next(data_iter)"
   ]
  },
  {
   "cell_type": "code",
   "execution_count": 8,
   "metadata": {},
   "outputs": [],
   "source": [
    "class MLP_no_relu(nn.Module):\n",
    "\n",
    "    def __init__(self):\n",
    "        super(MLP_no_relu, self).__init__()\n",
    "        self.l1 = torch.nn.Linear(784, 512)\n",
    "        self.l2 = torch.nn.Linear(512, 256)\n",
    "        self.l3 = torch.nn.Linear(256, 128)\n",
    "        self.l4 = torch.nn.Linear(128, 64)\n",
    "        self.l5 = torch.nn.Linear(64, 10)\n",
    "    \n",
    "    def forward(self, x):\n",
    "        x = x.view(-1, 784)\n",
    "        x = self.l1(x)\n",
    "        x = self.l2(x)\n",
    "        x = self.l3(x)\n",
    "        x = self.l4(x)\n",
    "        x = self.l5(x)\n",
    "        \n",
    "        return x"
   ]
  },
  {
   "cell_type": "code",
   "execution_count": 9,
   "metadata": {},
   "outputs": [],
   "source": [
    "NUM_EPOCHS = 20\n",
    "LEARNING_RATE = 0.01\n",
    "\n",
    "model = MLP_no_relu().to(device)\n",
    "# summary(model, (1, 28, 28))\n",
    "criterion = nn.CrossEntropyLoss()\n",
    "optimizer = optim.SGD(model.parameters(), lr=LEARNING_RATE)"
   ]
  },
  {
   "cell_type": "code",
   "execution_count": 12,
   "metadata": {},
   "outputs": [
    {
     "name": "stdout",
     "output_type": "stream",
     "text": [
      "Epoch 0 \tLoss: 128.81024078279734\n",
      "Epoch 1 \tLoss: 128.7366259470582\n",
      "Epoch 2 \tLoss: 127.40414538234472\n",
      "Epoch 3 \tLoss: 127.0491691455245\n",
      "Epoch 4 \tLoss: 126.87331414967775\n",
      "Epoch 5 \tLoss: 126.6406444311142\n",
      "Epoch 6 \tLoss: 125.75668703764677\n",
      "Epoch 7 \tLoss: 125.53404252976179\n",
      "Epoch 8 \tLoss: 125.02325777709484\n",
      "Epoch 9 \tLoss: 124.83307196199894\n",
      "Epoch 10 \tLoss: 124.3319096043706\n",
      "Epoch 11 \tLoss: 124.10798792541027\n",
      "Epoch 12 \tLoss: 123.84596453607082\n",
      "Epoch 13 \tLoss: 123.7253153398633\n",
      "Epoch 14 \tLoss: 123.32728912681341\n",
      "Epoch 15 \tLoss: 122.84540646523237\n",
      "Epoch 16 \tLoss: 122.77468118816614\n",
      "Epoch 17 \tLoss: 122.25802295655012\n",
      "Epoch 18 \tLoss: 122.3440076187253\n",
      "Epoch 19 \tLoss: 121.8569701090455\n"
     ]
    }
   ],
   "source": [
    "def new_learning_rate(loss):\n",
    "    if loss <= 1:\n",
    "        return 0.00001\n",
    "    elif loss <= 2:\n",
    "        return 0.0001\n",
    "    elif loss <= 20:\n",
    "        return 0.001\n",
    "    elif loss <= 25:\n",
    "        return 0.005\n",
    "    elif loss <= 40:\n",
    "        return 0.01\n",
    "    else:\n",
    "        return 0.01\n",
    "\n",
    "\n",
    "for epoch in range(NUM_EPOCHS):\n",
    "    total_loss = 0\n",
    "    model.train()\n",
    "    \n",
    "    for _, (data, target) in enumerate(train_loader):\n",
    "        data, target = data.to(device), target.to(device)\n",
    "        model = model.to(device)\n",
    "\n",
    "        optimizer.zero_grad()\n",
    "        output = model(data)\n",
    "        loss = criterion(output, target)\n",
    "        loss.backward()\n",
    "        optimizer.step()\n",
    "        total_loss += loss.item()\n",
    "    \n",
    "    print(f'Epoch {epoch} \\tLoss: {total_loss}')\n",
    "    \n",
    "    new_lr = new_learning_rate(total_loss)\n",
    "    for param_group in optimizer.param_groups:\n",
    "        param_group['lr'] = new_lr\n",
    "    \n"
   ]
  },
  {
   "cell_type": "code",
   "execution_count": 13,
   "metadata": {},
   "outputs": [
    {
     "name": "stdout",
     "output_type": "stream",
     "text": [
      "Test Accuracy: 92.20%\n"
     ]
    }
   ],
   "source": [
    "model.eval()\n",
    "correct = 0\n",
    "total = 0\n",
    "with torch.no_grad():\n",
    "    for data, target in test_loader:\n",
    "        data, target = data.to(device), target.to(device)\n",
    "        \n",
    "        output = model(data)\n",
    "        pred = output.argmax(dim=1)\n",
    "        correct += (pred == target).sum().item()\n",
    "        total += target.size(0)\n",
    "\n",
    "print(f\"Test Accuracy: {100 * correct / total:.2f}%\")"
   ]
  },
  {
   "cell_type": "code",
   "execution_count": 13,
   "metadata": {},
   "outputs": [
    {
     "data": {
      "text/plain": [
       "(tensor([-4.47259521, -3.45999026, -0.94826537, -1.26604509,  4.58980322,\n",
       "         -3.59521008, -4.40513039,  8.20609665,  0.75413740,  9.66033649],\n",
       "        device='cuda:0', grad_fn=<SelectBackward0>),\n",
       " tensor(9, device='cuda:0'))"
      ]
     },
     "execution_count": 13,
     "metadata": {},
     "output_type": "execute_result"
    }
   ],
   "source": [
    "# img = cv2.imread('/home/yoyo0125/Programs/HandWriteRecognize_NN/IMG01.jpg')\n",
    "# img.shape\n",
    "image = images.to(device)\n",
    "ans = model(image)\n",
    "ans[0], ans[0].argmax()"
   ]
  },
  {
   "cell_type": "code",
   "execution_count": 22,
   "metadata": {},
   "outputs": [
    {
     "data": {
      "text/plain": [
       "array([[ -12.1934,  -27.5752,  -14.6299,    1.1968,   -2.6871,   -6.4447,\n",
       "          -3.9561,  -29.2775,   38.7953,  -27.1995,  -12.6729,   -9.551 ,\n",
       "         -30.8349,  -82.1631,   14.7399,   -6.9548,   26.1845,   11.8413,\n",
       "         -14.7154,   -9.5882,  -16.3155,   -2.0974,    5.9894,  -18.578 ,\n",
       "         -25.5865,  -18.6052,  -18.0207,   23.1961],\n",
       "       [  37.4858,   -4.4429,    8.1483,  -67.7541,   -1.4554,  -15.0796,\n",
       "          -0.2172,  -12.5562,  -29.6831,  -33.6396,   -9.3064,  -14.5864,\n",
       "          25.9272,  -19.0189,    3.0141,   13.0397,  -31.112 ,   18.1841,\n",
       "         -32.4384,  -30.3932,   35.0694,   -1.3867,   -3.9145,    4.1121,\n",
       "           1.1592,   46.478 ,  -50.5245,  -24.2044],\n",
       "       [  48.9018,   -6.7629,   -5.5094,   14.24  ,    2.88  ,  -16.1928,\n",
       "          10.2128,   13.5595,   32.7223,   28.779 ,   57.4674,   19.8234,\n",
       "          -9.335 ,   23.5825,   25.6415,  -11.2322,   38.4348,   39.3546,\n",
       "           3.2723,  -10.0809,   42.7632,    3.6654,  -28.3691,  -16.807 ,\n",
       "           7.063 ,  -26.7849,    1.9395,   39.6649],\n",
       "       [  18.7638,   39.6815,  -30.439 ,   -8.0868,    3.6321,  -29.2635,\n",
       "         -36.3229,  -18.2727,   -9.7235,   40.1296,   -4.5764,    0.3311,\n",
       "          64.3665,   40.4187,  -17.0921,   50.0527,  -21.7143,   -3.3872,\n",
       "          23.5956,   -8.4933,  -14.9167,  -35.1734,  -21.2823,  -14.6993,\n",
       "           3.3615,  -50.1343,   -6.2519,   -8.7144],\n",
       "       [-102.6353,   42.3924,  -28.6706,   50.2486,  -37.4975,  -42.7131,\n",
       "         -17.444 ,  -19.8592,  -15.3569,   31.659 ,   31.7901,   35.188 ,\n",
       "           6.5089,   81.9807,    0.154 ,  -11.3731,   29.2526,   69.0788,\n",
       "          -6.4151,  -49.6354,  -24.2231,   -2.9686,   35.9341,    5.5234,\n",
       "          -4.2096,    0.0454,  -36.303 ,   34.0959],\n",
       "       [  17.0403,    8.4075,   23.3351,  -30.2135,   25.2304,   10.7063,\n",
       "          61.6142,   32.2516,  -28.2044,   25.7053,   -7.2318,  -20.1848,\n",
       "          37.7646,   -1.7998,  -43.6524,   32.2465,  -17.8677,    3.8135,\n",
       "         -49.4562,   -6.8569,   -2.5161,    3.4474,   -6.6078,   23.4707,\n",
       "         -48.071 ,   -4.312 ,   29.9753,    5.4802],\n",
       "       [  21.9819,  -52.4205,    5.1154,  -45.579 ,  -32.0513,  -12.1041,\n",
       "          21.2384,   22.2491,   15.8083,  -63.2072,   44.005 ,  -25.1588,\n",
       "          82.1385,  -17.6847,   14.8635,  -66.0511,   -2.1723,  -44.3162,\n",
       "         -32.5652,   61.0063,  -52.1598,   20.7465,  -31.9453,   46.5915,\n",
       "         -58.5547,  -38.6704,  -54.146 ,   36.7413],\n",
       "       [  35.7882,    1.3076,   26.9119,  -26.9495,   42.5926,   50.6247,\n",
       "          44.6342,    7.4192,  -82.3991,   -4.332 ,   -5.2418,   23.9921,\n",
       "          22.8884,  -19.623 ,   33.1341,   24.2235,   41.0526,   18.1584,\n",
       "          20.018 ,  -13.1439,    2.6441,   41.7002,   22.2333,  -29.817 ,\n",
       "          53.1906,    5.0452,   -0.3   ,   41.9087],\n",
       "       [ -46.041 ,  -24.6151,   11.3975,   27.8923,  -22.6717,  -68.1615,\n",
       "          11.173 ,   -2.731 ,  -39.5078,    1.097 ,   32.9862,  -33.5251,\n",
       "         -26.2107,  -29.0119,   19.0347,  -27.8884,   -6.032 ,   13.3114,\n",
       "          -3.7409,  -25.5706,   -9.9326,   82.3656,   21.9531,   19.8277,\n",
       "          12.5843,   34.6151,   26.682 ,   25.74  ],\n",
       "       [ -16.8158,   20.8314,  -22.151 ,   38.157 ,   44.2473,  -41.5867,\n",
       "         -11.8554,  -43.9787,  -48.3069,   16.8313,   31.6646,  -15.4302,\n",
       "         -73.3428,   24.464 ,    6.3597,    8.6974,   46.2211,  -16.7861,\n",
       "          29.4262,   -3.6489,   -7.552 ,  -37.0841,   29.9433,  -18.306 ,\n",
       "          24.784 ,   24.3073,  -12.4644,  -11.6103],\n",
       "       [  -4.3824,   11.7139,    5.5597,  -29.5886,   18.2253,   -5.4086,\n",
       "          -1.6348,    8.3696,    7.4501,  -16.8696,    9.6305,   -1.0039,\n",
       "         -23.6827,  -43.8334,   -8.379 ,   49.9048,   28.982 ,   -0.0876,\n",
       "          19.1997,  -41.736 ,   -9.0402,    1.5041,  -11.475 ,   62.7433,\n",
       "          15.1292,   35.3899,  -69.434 ,    7.1376],\n",
       "       [  19.262 ,  -32.2542,  -64.0567,    1.4158,   25.0781,   28.9489,\n",
       "          12.5189,    9.2956,  -18.3683,  -58.93  ,   11.688 ,  -16.0488,\n",
       "          -8.7423,    2.2836,  -48.7948,   -3.2834,   10.9054,   10.2963,\n",
       "           3.6815,  -17.8179,  -37.1286,   13.0925,   -4.2508,    4.4609,\n",
       "           0.9983,  -44.5112,    9.9724,   32.8439],\n",
       "       [  -2.828 ,   -6.2449,    0.6078,    4.9213,  -30.8338,   13.232 ,\n",
       "         -13.7387,   16.3447,  -10.6005,    8.3591,   -5.9348,  -24.0381,\n",
       "          12.7725,   -3.6334,  -18.8823,   15.928 ,   22.705 ,   18.7701,\n",
       "           6.1257,   -2.2929,  -52.4258,    0.9518,   15.0827,   17.2304,\n",
       "         -34.8095,  -33.8833,   36.9222,   57.0713],\n",
       "       [  10.8256,   32.4533,   -0.7275,  -32.2514,    9.7705,   20.3385,\n",
       "          37.7199,    9.6309,  -32.7648,  -27.265 ,   -3.2908,  -13.8501,\n",
       "           2.3586,   18.0667,    0.8779,   63.9435,   10.6748,  -29.7933,\n",
       "          19.5438,  -45.313 ,   56.8428,   30.361 ,  -17.4003,  -43.4638,\n",
       "         -20.9891,    5.3502,  -61.983 ,  -63.2257],\n",
       "       [   3.6109,    4.7416,  -23.0491,  -20.4846,    8.8687,  -11.4395,\n",
       "         -12.5823,   15.9441,   30.5315,   -1.0905,    2.9815,    5.488 ,\n",
       "          15.3705,   11.7551,    5.5559,   27.9908,  -10.742 ,   17.6719,\n",
       "          18.5457,    4.4568,   29.153 ,  -11.2025,   19.6276,  -56.4996,\n",
       "          24.9177,    7.8767,  -38.0565,   -2.8826],\n",
       "       [  49.4652,   21.1725,   -7.4675,   19.6392,  -25.8382,   58.8357,\n",
       "           6.5386,  -33.8337,   12.7413,   29.9435,   13.4278,   48.3022,\n",
       "          12.0848,    7.7964,   10.0478,   24.4645,  -82.6281,   16.9308,\n",
       "          21.102 ,   -4.0979,    1.369 ,   14.4863,    0.0761,  -32.692 ,\n",
       "         -14.3112,   16.1994,   16.4898,   -8.5905],\n",
       "       [  32.5477,   28.8106,  -47.2223,  -85.0782,  -25.8552,  -24.7538,\n",
       "          -4.2701,   18.3753,   12.5029,    0.2367,  -15.1353,  -59.7113,\n",
       "          15.1297,    0.1041,  -37.849 ,   30.0535,    5.0281,   11.1944,\n",
       "           0.551 ,  -52.7777,  -39.9411,   20.2428,  -45.7345,  -18.8029,\n",
       "         -24.3065,    5.5903,   18.1602,  -19.1131],\n",
       "       [ -31.676 ,  -45.1602,  -41.7337,   14.5909,  -45.8555,  -10.0615,\n",
       "         -11.981 ,  -27.8746,  -28.2873,  -24.076 ,   -9.3962,  -21.4351,\n",
       "         -29.7015,   75.2859,   26.1108,    4.321 ,   23.4753,   17.2904,\n",
       "         -24.4952,    7.7656,   39.5727,   -3.605 ,   41.9454,  -18.8299,\n",
       "          41.3837,   -2.795 ,  -72.4406,  -26.1176],\n",
       "       [ -14.9057,   -3.7543,  -14.3932,  -34.5001,   52.2646,   27.1065,\n",
       "         -21.6754,   11.1859,   -7.8069,    0.3293,   27.1728,  -18.4912,\n",
       "          54.8169,   -8.2711,  -18.4901,  -44.5967,  -28.3522,  -26.9962,\n",
       "          36.5952,  -32.5417,   43.0018,  -50.2203,  -33.5402,  -62.7128,\n",
       "           5.0671,    9.0944,   11.0543,   19.9809],\n",
       "       [ -15.2027,  -11.7558,  -36.8182,    7.3165,  -11.671 ,  -38.7802,\n",
       "         -16.3319,  -26.3497,  -33.8068,   41.6134,   24.8642,   45.7484,\n",
       "          45.5536,  -30.9231,  -27.8553,   31.6795,   -9.4906,  -19.9346,\n",
       "          28.4969,    9.3123,   -5.3033,   33.306 ,   27.5764,  -62.609 ,\n",
       "          -4.7906,   40.6472,   50.3249,  -26.4497],\n",
       "       [ -77.2929,  -34.9172,   40.1556,  -45.8951,   31.2091,  -59.1709,\n",
       "          55.5441,  -33.4628,  -33.7792,  -18.3168,    6.9781,   25.7187,\n",
       "         -34.885 ,   -1.0048,   -4.7256,  -40.372 ,   25.557 ,   16.6871,\n",
       "         -26.3401,   12.311 ,   -4.1973,  -24.272 ,  -50.5503,   10.1984,\n",
       "         -50.3478,   73.3977,  -20.2376,   -5.0284],\n",
       "       [  30.5102,   14.2587,  -55.5229,   21.5253,   16.4808,  -25.541 ,\n",
       "         -49.4607,   11.1676,   32.905 ,   28.729 ,   36.5369,   22.9924,\n",
       "          14.9474,   61.1155,    7.8047,  -20.6154,  -50.4707,   27.1039,\n",
       "           6.3356,   29.1291,  -17.8429,    0.992 ,   -0.0161,   -3.0903,\n",
       "          65.2255,  -37.9871,   -1.4584,  -17.9921],\n",
       "       [  11.6831,   28.9721,   17.5716,   -2.6511,  -13.7802,   -3.2081,\n",
       "         -14.9763,  -10.0544,  -19.5827,   50.7531,  -36.324 ,  -30.8908,\n",
       "          -2.2055,  -25.9553,   -5.1383,  -11.6749,  -27.15  ,   29.8014,\n",
       "          29.3676,   -5.6817,   25.5468,  -18.1261,   28.1348,   40.2375,\n",
       "          13.6334,   31.6202,  -94.2892,  -51.6442],\n",
       "       [   5.7616,   57.5005,   43.4606,   35.6392,   -6.4809,  -38.7067,\n",
       "          40.9572,    9.8811,   25.6162,  -14.3212,   -0.9846,   57.771 ,\n",
       "           2.0109,  -23.4583,  -78.1806,   35.9346,   13.8011,   -6.0937,\n",
       "          -8.7921,   36.9989,  -42.295 ,   44.2959,  -18.7134,  -17.2403,\n",
       "           4.4628,   -1.8282,   12.6659,  -10.4319],\n",
       "       [  11.2414,  -23.4977,   44.9684,  -20.5746,   -1.9259,   11.6833,\n",
       "           9.7506,   17.3428,  -31.728 ,  -76.4835,   43.0081,  -38.6866,\n",
       "         -21.0356,   33.4383,   29.0639,  -37.1605,    3.3667,   -2.0871,\n",
       "         -23.4924,  -36.264 ,   50.1951,   -4.7672,    6.6989,    6.3467,\n",
       "         -14.3951,   -8.8525,   40.4418,  -55.1327],\n",
       "       [  -5.1475,  -35.4353,   45.1623,   -5.508 ,   14.3756,   96.6891,\n",
       "         -44.8323,    9.7476,    5.859 ,  -58.8564,   49.2677,   57.0519,\n",
       "          20.8399,   24.0196,  -13.9757,    0.7684,   27.0524,  -13.4248,\n",
       "          29.0737,  -12.7444,  -38.6629,  -14.596 ,   40.2397,    6.6201,\n",
       "         -32.2185,    4.1749,  -21.0854,   50.2854],\n",
       "       [   1.4148,    1.6735,   -5.0925,  -32.8432,   73.9887,  -29.6862,\n",
       "         -10.168 ,  -21.7214,  -37.9425,  -17.13  ,   16.2722,  -13.0021,\n",
       "           2.4013,   14.5994,   19.2164,   36.5865,  -11.97  ,   11.6982,\n",
       "          12.8733,    4.7598,  -21.0904,   -7.5007,  -17.5743,   40.0537,\n",
       "          48.9199,    7.6456,   30.5903,   35.3664],\n",
       "       [  29.1821,   36.2702,   -5.6387,   -2.4488,  -17.6116,   26.0261,\n",
       "          -2.927 ,  -40.9601,   14.572 ,   10.1934,   -7.9822,   69.4528,\n",
       "         -31.2735,  -38.0656,  -13.4964,   34.6406,  -12.9836,  -36.4   ,\n",
       "           7.4634,   62.4085,  -52.5037,   17.481 ,   33.656 ,   41.7249,\n",
       "          -5.1583,   15.5485,  -30.9877,   16.2513]], dtype=float32)"
      ]
     },
     "execution_count": 22,
     "metadata": {},
     "output_type": "execute_result"
    }
   ],
   "source": [
    "#y0 = numpy.array(ans.cpu().detach().numpy()).flatten()\n",
    "y0 = numpy.array([1, 1, 4, 5, 1, 4, 1, 9, 1, 9], dtype=numpy.float32)\n",
    "\n",
    "W_5, b_5 = model.l5.weight.cpu().detach().numpy(), model.l5.bias.cpu().detach().numpy()\n",
    "y1, residuals, rank, s = numpy.linalg.lstsq(W_5, y0 - b_5, rcond=None)\n",
    "\n",
    "W_4, b_4 = model.l4.weight.cpu().detach().numpy(), model.l4.bias.cpu().detach().numpy()\n",
    "y2, residuals, rank, s = numpy.linalg.lstsq(W_4, y1 - b_4, rcond=None)\n",
    "\n",
    "W_3, b_3 = model.l3.weight.cpu().detach().numpy(), model.l3.bias.cpu().detach().numpy()\n",
    "y3, residuals, rank, s = numpy.linalg.lstsq(W_3, y2 - b_3, rcond=None)\n",
    "\n",
    "W_2, b_2 = model.l2.weight.cpu().detach().numpy(), model.l2.bias.cpu().detach().numpy()\n",
    "y4, residuals, rank, s = numpy.linalg.lstsq(W_2, y3 - b_2, rcond=None)\n",
    "\n",
    "W_1, b_1 = model.l1.weight.cpu().detach().numpy(), model.l1.bias.cpu().detach().numpy()\n",
    "y5, residuals, rank, s = numpy.linalg.lstsq(W_1, y4 - b_1, rcond=None)\n",
    "\n",
    "res = y5.reshape(28, 28)\n",
    "res"
   ]
  },
  {
   "cell_type": "code",
   "execution_count": 24,
   "metadata": {},
   "outputs": [
    {
     "data": {
      "image/png": "[encoded data removed]",
      "text/plain": [
       "<Figure size 640x480 with 2 Axes>"
      ]
     },
     "metadata": {},
     "output_type": "display_data"
    }
   ],
   "source": [
    "plt.imshow(res, cmap='gray')\n",
    "plt.title('res')\n",
    "plt.colorbar()\n",
    "plt.axis('off')\n",
    "plt.show()"
   ]
  },
  {
   "cell_type": "code",
   "execution_count": 23,
   "metadata": {},
   "outputs": [
    {
     "data": {
      "text/plain": [
       "tensor([[1.0000, 1.0000, 4.0000, 5.0000, 1.0000, 4.0000, 1.0000, 9.0000, 1.0000,\n",
       "         9.0000]], device='cuda:0', grad_fn=<AddmmBackward0>)"
      ]
     },
     "execution_count": 23,
     "metadata": {},
     "output_type": "execute_result"
    }
   ],
   "source": [
    "y5_tensor = torch.tensor(y5, dtype=torch.float32)\n",
    "y5_tensor = y5_tensor.to(device)\n",
    "model(y5_tensor)"
   ]
  },
  {
   "cell_type": "code",
   "execution_count": null,
   "metadata": {},
   "outputs": [],
   "source": []
  }
 ],
 "metadata": {
  "kernelspec": {
   "display_name": "ailab",
   "language": "python",
   "name": "python3"
  },
  "language_info": {
   "codemirror_mode": {
    "name": "ipython",
    "version": 3
   },
   "file_extension": ".py",
   "mimetype": "text/x-python",
   "name": "python",
   "nbconvert_exporter": "python",
   "pygments_lexer": "ipython3",
   "version": "3.11.11"
  }
 },
 "nbformat": 4,
 "nbformat_minor": 2
}
